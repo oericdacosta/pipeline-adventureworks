{
 "cells": [
  {
   "cell_type": "code",
   "execution_count": 0,
   "metadata": {
    "application/vnd.databricks.v1+cell": {
     "cellMetadata": {
      "byteLimit": 2048000,
      "rowLimit": 10000
     },
     "inputWidgets": {},
     "nuid": "b55ce11b-448f-4afd-9a01-f5e93a67bdb4",
     "showTitle": false,
     "tableResultSettingsMap": {},
     "title": ""
    }
   },
   "outputs": [],
   "source": [
    "# Setting Catalog and Schema\n",
    "catalog_name = dbutils.widgets.get(\"catalog\")\n",
    "schema_name = dbutils.widgets.get(\"schema\")\n",
    "volume_name = \"raw\"\n",
    "\n",
    "spark.sql(f\"USE CATALOG {catalog_name}\")\n",
    "spark.sql(f\"USE SCHEMA {schema_name}\")\n",
    "\n",
    "# Location of the raw data\n",
    "location_raw = f\"/Volumes/{catalog_name}/{schema_name}/{volume_name}/\"\n"
   ]
  },
  {
   "cell_type": "code",
   "execution_count": 0,
   "metadata": {
    "application/vnd.databricks.v1+cell": {
     "cellMetadata": {
      "byteLimit": 2048000,
      "rowLimit": 10000
     },
     "inputWidgets": {},
     "nuid": "f7724d8d-58a3-422a-890d-e5eea5a46d9e",
     "showTitle": false,
     "tableResultSettingsMap": {},
     "title": ""
    }
   },
   "outputs": [
    {
     "name": "stdout",
     "output_type": "stream",
     "text": [
      "bronze_productionproduct\n"
     ]
    }
   ],
   "source": [
    "# GET file_parquet and folder_volume param's\n",
    "file_parquet = dbutils.widgets.get(\"file_parquet\")\n",
    "folder_volume = dbutils.widgets.get(\"folder_volume\")\n",
    "\n",
    "# # TESTE\n",
    "# file_parquet = \"./output/ProductionProduct/.ProductionProduct_20250610_1548.000.parquet\"\n",
    "# folder_volume = \"database_embulk\"\n",
    "\n",
    "# Setting prefix_table\n",
    "prefix_table = 'raw_'\n",
    "\n",
    "if folder_volume == 'database_meltano':\n",
    "    prefix_table += 'meltano_'\n",
    "elif folder_volume == 'database_embulk':\n",
    "    prefix_table += ''\n",
    "else:\n",
    "    prefix_table += ''\n",
    "\n",
    "\n",
    "table_name = (prefix_table + \n",
    "              (file_parquet.replace(\"./output/\",\"\")\n",
    "              [:(file_parquet.replace(\"./output/\",\"\")\n",
    "                 .find(\"/\"))]\n",
    "              .lower()))\n",
    "\n",
    "table_name = table_name.replace(\"-\",\"_\")\n",
    "print(table_name)\n",
    "\n",
    "file_parquet = f'{location_raw}{folder_volume}/{file_parquet.replace(\"./output/\",\"\")}'\n",
    "\n",
    "try:\n",
    "    sql_command = (f'''\n",
    "                   COPY INTO {table_name}\n",
    "                   FROM '{file_parquet}'\n",
    "                   FILEFORMAT = PARQUET\n",
    "                   ''')\n",
    "    spark.sql(sql_command)\n",
    "except Exception as e:\n",
    "    df = spark.read.option(\"header\", True).parquet(file_parquet)\n",
    "    df.write.format(\"delta\").mode(\"overwrite\").saveAsTable(f\"{table_name}\")\n"
   ]
  }
 ],
 "metadata": {
  "application/vnd.databricks.v1+notebook": {
   "computePreferences": null,
   "dashboards": [],
   "environmentMetadata": {
    "base_environment": "",
    "environment_version": "2"
   },
   "inputWidgetPreferences": null,
   "language": "python",
   "notebookMetadata": {
    "pythonIndentUnit": 4
   },
   "notebookName": "bkp",
   "widgets": {}
  },
  "language_info": {
   "name": "python"
  }
 },
 "nbformat": 4,
 "nbformat_minor": 0
}
