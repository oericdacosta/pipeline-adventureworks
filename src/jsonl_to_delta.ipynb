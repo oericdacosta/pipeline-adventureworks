{
 "cells": [
  {
   "cell_type": "code",
   "execution_count": 0,
   "metadata": {
    "application/vnd.databricks.v1+cell": {
     "cellMetadata": {
      "byteLimit": 2048000,
      "rowLimit": 10000
     },
     "inputWidgets": {},
     "nuid": "b55ce11b-448f-4afd-9a01-f5e93a67bdb4",
     "showTitle": false,
     "tableResultSettingsMap": {},
     "title": ""
    }
   },
   "outputs": [],
   "source": [
    "# Setting Catalog and Schema\n",
    "catalog_name = dbutils.widgets.get(\"catalog\")\n",
    "schema_name = dbutils.widgets.get(\"schema\")\n",
    "volume_name = \"raw\"\n",
    "\n",
    "spark.sql(f\"USE CATALOG {catalog_name}\")\n",
    "spark.sql(f\"USE SCHEMA {schema_name}\")\n",
    "\n",
    "# Location of the raw data\n",
    "location_raw = f\"/Volumes/{catalog_name}/{schema_name}/{volume_name}/\"\n"
   ]
  },
  {
   "cell_type": "code",
   "execution_count": 0,
   "metadata": {
    "application/vnd.databricks.v1+cell": {
     "cellMetadata": {
      "byteLimit": 2048000,
      "rowLimit": 10000
     },
     "inputWidgets": {},
     "nuid": "f7724d8d-58a3-422a-890d-e5eea5a46d9e",
     "showTitle": false,
     "tableResultSettingsMap": {},
     "title": ""
    }
   },
   "outputs": [
    {
     "name": "stdout",
     "output_type": "stream",
     "text": [
      "bronze_api_purchaseorderdetail\n"
     ]
    }
   ],
   "source": [
    "# GET file_jsonl and folder_volume param's\n",
    "file_jsonl = dbutils.widgets.get(\"file_jsonl\")\n",
    "folder_volume = dbutils.widgets.get(\"folder_volume\")\n",
    "\n",
    "# # TESTE\n",
    "# file_jsonl = \"./output/purchaseorderdetail.jsonl\"\n",
    "# folder_volume = \"api_meltano\"\n",
    "\n",
    "# Setting prefix_table\n",
    "prefix_table = 'raw_api_'\n",
    "\n",
    "\n",
    "table_name = (prefix_table + \n",
    "              (file_jsonl.replace(\"./output/\",\"\")\n",
    "              [:(file_jsonl.replace(\"./output/\",\"\")\n",
    "                 .find(\".\"))]\n",
    "              .lower()))\n",
    "\n",
    "\n",
    "print(table_name)\n",
    "\n",
    "file_jsonl = f'{location_raw}{folder_volume}/{file_jsonl.replace(\"./output/\",\"\")}'\n",
    "\n"
   ]
  },
  {
   "cell_type": "code",
   "execution_count": 0,
   "metadata": {
    "application/vnd.databricks.v1+cell": {
     "cellMetadata": {
      "byteLimit": 2048000,
      "rowLimit": 10000
     },
     "inputWidgets": {},
     "nuid": "3e456987-037a-441e-a347-a5776b37b4d7",
     "showTitle": false,
     "tableResultSettingsMap": {},
     "title": ""
    }
   },
   "outputs": [],
   "source": [
    "try:\n",
    "    sql_command = (f'''\n",
    "                   COPY INTO {table_name}\n",
    "                   FROM '{file_jsonl}'\n",
    "                   FILEFORMAT = JSONL\n",
    "                   ''')\n",
    "    spark.sql(sql_command)\n",
    "except Exception as e:\n",
    "    df = spark.read.json(file_jsonl)\n",
    "    df.write.format(\"delta\").mode(\"overwrite\").saveAsTable(f\"{table_name}\")\n"
   ]
  }
 ],
 "metadata": {
  "application/vnd.databricks.v1+notebook": {
   "computePreferences": null,
   "dashboards": [],
   "environmentMetadata": {
    "base_environment": "",
    "environment_version": "2"
   },
   "inputWidgetPreferences": null,
   "language": "python",
   "notebookMetadata": {
    "mostRecentlyExecutedCommandWithImplicitDF": {
     "commandId": 6555369186299034,
     "dataframes": [
      "_sqldf"
     ]
    },
    "pythonIndentUnit": 4
   },
   "notebookName": "jsonl_to_delta",
   "widgets": {}
  },
  "language_info": {
   "name": "python"
  }
 },
 "nbformat": 4,
 "nbformat_minor": 0
}
